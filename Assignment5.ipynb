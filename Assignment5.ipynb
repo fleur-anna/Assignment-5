{
 "cells": [
  {
   "cell_type": "code",
   "execution_count": 1,
   "id": "6e4018cc",
   "metadata": {},
   "outputs": [],
   "source": [
    "import numpy as np"
   ]
  },
  {
   "cell_type": "code",
   "execution_count": 2,
   "id": "ab2ded2e",
   "metadata": {},
   "outputs": [
    {
     "name": "stdout",
     "output_type": "stream",
     "text": [
      "-72.0\n"
     ]
    }
   ],
   "source": [
    "def Det(A):\n",
    "    return np.linalg.det(A)\n",
    "\n",
    "A3 = [[5,4,3],[6,1,2],[7,8,9]]\n",
    "\n",
    "print(Det(A3))"
   ]
  },
  {
   "cell_type": "code",
   "execution_count": 3,
   "id": "1c451709",
   "metadata": {},
   "outputs": [
    {
     "name": "stdout",
     "output_type": "stream",
     "text": [
      "31919.999999999967\n"
     ]
    }
   ],
   "source": [
    "A5 = [[17,16,15,14,13],[18,5,4,3,12],[19,6,1,2,11],[20,7,8,9,10],[21,22,23,24,25]]\n",
    "\n",
    "print(Det(A5))"
   ]
  },
  {
   "cell_type": "code",
   "execution_count": 4,
   "id": "557e0904",
   "metadata": {},
   "outputs": [
    {
     "name": "stdout",
     "output_type": "stream",
     "text": [
      "-26611199.99999994\n"
     ]
    }
   ],
   "source": [
    "A7 = [[37,36,35,34,33,32,31],[38,17,16,15,14,13,30],[39,18,5,4,3,12,29],[40,19,6,1,2,11,28],[41,20,7,8,9,10,27],[42,21,22,23,24,25,26],[43,44,45,46,47,48,49]]\n",
    "\n",
    "print(Det(A7))"
   ]
  },
  {
   "cell_type": "code",
   "execution_count": null,
   "id": "f42e09cb",
   "metadata": {},
   "outputs": [],
   "source": []
  }
 ],
 "metadata": {
  "kernelspec": {
   "display_name": "Python 3 (ipykernel)",
   "language": "python",
   "name": "python3"
  },
  "language_info": {
   "codemirror_mode": {
    "name": "ipython",
    "version": 3
   },
   "file_extension": ".py",
   "mimetype": "text/x-python",
   "name": "python",
   "nbconvert_exporter": "python",
   "pygments_lexer": "ipython3",
   "version": "3.9.7"
  }
 },
 "nbformat": 4,
 "nbformat_minor": 5
}
